{
 "cells": [
  {
   "cell_type": "markdown",
   "metadata": {},
   "source": [
    "### 얕은 신경망 (Shallow Neural Network)\n",
    "- 입력,은닉, 출력의 3가지 계층으로 되어있으며,\n",
    "- 은닉 계층과 출력 계층이 Fully connectied인 구조를 얕은 신경망 네트워크라고 한다"
   ]
  },
  {
   "cell_type": "markdown",
   "metadata": {},
   "source": [
    "### 회귀\n",
    "잡음이 있는 학습 샘플로부터 규칙을 찾아 연속된 값의 출력을 추정하는 것을 회귀라고 한다.\n",
    "\n",
    ">### 단순 선형 회귀\n",
    "- #### 선형 회귀(Linear Regression): 데이터를 가장 잘 표현하는 선형식을 찾는 동작\n",
    "\n",
    "- 평균 제곱 에러(Mean Squared Error; MSE)를 최소로 하는 w를 찾아라\n",
    "- 단순 선형 회귀의 예. 독립변수(입력)이 하나이므로, 추정해야 할 변수도 하나.\n",
    "- 단 편향을 포함하면 2개가 된다.\n",
    "\n",
    "> #### 평균 제곱 오차(Mean Squared Error)\n",
    "MSE를 이용해, 고양이의 길이와 체중의 오차를 종합적으로 판단할 수 있다.\n",
    "\n",
    ">### 다중 선형 회귀\n",
    "- 단일 입력이 아닌, 다중 입력을 받을 경우에는 변수가 확장되어 벡터의 내적이 된다.\n",
    "- 변수가 하나 추가될 때 마다 차원이 하나씩 추가된다. 직선->평면->초평면\n"
   ]
  },
  {
   "cell_type": "markdown",
   "metadata": {},
   "source": [
    "#### 얕은 신경망을 이용한 회귀\n",
    "- 얕은 신경망의 동작은 출력계층의 활성 함수에 의해 달라진다\n",
    "- 회귀는 전 범위의 연속된 값을 출력하므로, 보통 Identity function(항등 함수)을 사용한다.\n",
    "\n",
    "- 얕은 신경망으로 회귀를 수행할 경우, 출력 계층은 선형 회귀와 동일하다.(identity function 사용)\n",
    "- 입력 계층에서 은닉 계층으로 추가적인 변환이 있다는 것이 다른 점!\n",
    "\n",
    "- #### 은닉 계층과 회귀\n",
    " - 선형적으로 분포되지 않는 입력 -> 선형적으로 분포하는 은닉계층(특징) -> 선형 회귀\n",
    " - 입력 space를 기준으로 보면 회귀 곡선이 된다!"
   ]
  },
  {
   "cell_type": "markdown",
   "metadata": {},
   "source": [
    "### 분류\n",
    "입력 값을 분석해 특정 범주로 구분하는 작업을 분류라고 한다.\n",
    "decision boundary를 추정\n",
    "- 이진분류(Binary classification) : 범주가 2개\n",
    "- 다중분류(Multi-class classification) : 그 이상\n",
    "\n",
    ">### 로지스틱회귀(Logistic Regression)\n",
    "- 범주형 데이터를 대상으로 하는 회귀. 분류 기법으로도 볼 수 있다\n",
    "- 이진교차 엔트로피를 최소화 한다\n",
    "- 로지스틱 회귀는 선형 회귀와 비슷하나 범주형 데이터를 분류하는 방향으로 선을 긋는다.\n",
    "- 변수가 하나 추가될때 마다 차원이 하나씩 추가된다. 직선->평면->초평면\n",
    "\n",
    ">#### Sigmoid Function\n",
    "- 값이 작아질 수록 0, 커질 수록 1에 수렴\n",
    "- 모든 실수 입력 값에 대해 출력이 정의됨\n",
    "- 출력이 0~1 사이로, '확률'을 표현할 수 있음\n",
    "- 입력 값이 0에 가까울 수록 출력이 빠르게 변함\n",
    "- 모든 점에서 미분 가능\n",
    "\n",
    ">#### 교차 엔트로피 오차(Cross Entropy Error; CEE)\n",
    "- 정확히 맞추면 오차가 0, 틀릴수록 오차가 무한히 증가하는 특징이 있다.\n",
    "\n"
   ]
  },
  {
   "cell_type": "markdown",
   "metadata": {},
   "source": [
    "#### 얕은 신경망을 이용한 이진 분류\n",
    "- 이진 분류를 위한 출력은 0~1 사이의 실수 값이며, 활성함수로 Sigmoid function을 사용한다.\n",
    "- 0.5보다 작으면 첫번째 Class, 0.5보다 크면 두번째 Class로 분류한다.\n",
    "- 얕은 신경망으로 Classification을 수행할 경우, 출력 계층은 로지스틱 회귀와 동일하다.\n",
    "- 입력 계층에서 은닉 계층으로 추가적인 변환이 있다는 것이 다른점!\n",
    "\n",
    "- #### 은닉 계층과 분류\n",
    " - 선형적으로 분리되지 않는 Class -> 선형적으로 분리되는 은닉계층(특징) -> 로지스틱 회귀\n",
    " - 입력 Space를 기준으로 보면 Decision Boundary가 곡선이 된다!\n",
    "#### 얕은 신경망을 이용한 다중 클래스 분류\n",
    "- SoftMax 활성 함수를 이용해 다중 분류 문제를 해결할 수 있다.\n",
    "- 각 출력은 해당 Class에 속할 확률을 의미한다.\n",
    "- 이진 분류에서는 '어떤 물체'인지 표현할 필요가 없었으나, 다중 분류에서는 '어떤 물체'인지 표현해야 한다.\n",
    "\n",
    "> #### 정답을 어떻게 표현할 것인가? : 원핫인코딩\n",
    "    - one hot encoding : 한개의 값만 1이고 나머지 값은 0인 벡터로 표현하는 기법\n",
    "    - 원핫인코딩된 벡터는 미리 정해둔 Table을 이용해 어떤 물체인지 알 수 있다.\n",
    "    - 희소벡터(sparse vector): 대부분의 값이 0이고 크기가 있는 값이 희소하게 나타나는 벡터\n",
    "    - 희소 표현을 이용해 벡터 전체를 표기하지 않고 숫자 하나로 표현할 수 있다\n",
    "\n",
    "- 한가지 확률만 100%이고 나머지는 0%인 것이 정답(=원 핫 인코딩)\n",
    "- 실제 알고리즘 출력을 확률로 변환하기 위해 Softmax함수를 사용한다\n",
    "> #### 어떻게 출력을 계산할 것인가? Softmax function\n",
    "- 각 입력의 지수 함수를 정규화 한 것\n",
    "- 각 출력은 0~1 사이의 값을 가짐\n",
    "- 모든 출력의 합이 반드시 1이 됨\n",
    "- 여러 경우의 수 중 한가지에 속할 확률을 표현\n",
    "- Softmax는 최종 출력 단에서 N가지 범주로 분류하는 Multi-class classification에 쓰임\n",
    "    - softmax vs sigmoid\n",
    "        - sigmoid는 하나의 입력을 0으로 강제한 2-class softmax함수와 동일하다. \n",
    "        - 2가지 클래스를 구분하기 위해 1개의 입력을 받는다는 점에 주목\n",
    "\n",
    "> #### 정답과 출력을 어떻게 비교할까? 교차 엔트로피 오차\n",
    "- 교차 엔트로피 오차(Cross entropy error; CEE)\n",
    " - 원 핫 인코딩으로 인해 정답인 클래스에 대해서만 오차를 계산, 정확히 맞추면 오차가 0 틀릴수록 오차가 무한히 증가하는 특징이 있다.\n",
    " - 오차를 내는 과정에서는 정답 클래스만 비교하지만, 다중 클래스 분류의 활성함수인 softmax로 인해 다른 클래스에 대한 학습에도 영향을 준다"
   ]
  },
  {
   "cell_type": "markdown",
   "metadata": {},
   "source": [
    "### 입력계층(Input Layer)\n",
    "- 입력 계층은 아무런 연산도 일어나지 않는다.\n",
    "- 신경망의 입력을 받아서 다음 계층으로 넘기는 역할\n",
    "- 무엇을 입력으로 주어야 하는가? -> 특징 추출 문제\n",
    "- 계층의 크기 = Node의 개수 = 입력 Scalar의 수 = 입력 Vector의 길이\n",
    "\n",
    "### 은닉계층(Hidden Layer)\n",
    "- 은닉 계층은 입력 계층과 연결된 전결합 계층이다.\n",
    "- 입출력 관점에서 볼 때 드러나지 않는다고 하여, 은닉계층이라 한다.\n",
    "- 복잡한 문제를 해결할 수 있게 하는 핵심적인 계층\n",
    "- 얕은 신경망에서는 1개의 은닉 계층만을 사용한다.\n",
    "\n",
    "### 출력계층(Output Layer)\n",
    "- 출력 계층은 은닉 계층 다음에 오는 전결합 계층이다.\n",
    "- 신경망의 외부로 출력 신호를 전달하는 데에 사용된다.\n",
    "- 신경망의 기능은 출력 계층의 활성 함수에 의해 결정된다.\n",
    "- 출력 계층의 크기 = 출력의 Scalar 수 = 출력 벡터의 길이"
   ]
  },
  {
   "cell_type": "markdown",
   "metadata": {},
   "source": [
    "### 얕은 신경망을 이용한 다중 분류 문제"
   ]
  },
  {
   "cell_type": "code",
   "execution_count": 2,
   "metadata": {},
   "outputs": [],
   "source": [
    "import numpy as np\n",
    "import matplotlib.pyplot as plt"
   ]
  },
  {
   "cell_type": "markdown",
   "metadata": {},
   "source": [
    "#### 함수 구현"
   ]
  },
  {
   "cell_type": "markdown",
   "metadata": {},
   "source": [
    "- #### Sigmoid 함수"
   ]
  },
  {
   "cell_type": "code",
   "execution_count": 3,
   "metadata": {},
   "outputs": [],
   "source": [
    "def sigmoid(x):\n",
    "    return 1 / (1+np.exp(-x))"
   ]
  },
  {
   "cell_type": "markdown",
   "metadata": {},
   "source": [
    "- #### Softmax 함수"
   ]
  },
  {
   "cell_type": "code",
   "execution_count": 4,
   "metadata": {},
   "outputs": [],
   "source": [
    "def sigmoid(x):\n",
    "    e_x = np.exp(x)\n",
    "    return e_x / np.sum(e_x)"
   ]
  },
  {
   "cell_type": "markdown",
   "metadata": {},
   "source": [
    "#### 네트워크 구조 정의"
   ]
  },
  {
   "cell_type": "code",
   "execution_count": 5,
   "metadata": {},
   "outputs": [],
   "source": [
    "#Define network architecture\n",
    "class ShallowNN:\n",
    "    def __init__(self, num_input, num_hidden, num_output):\n",
    "    # input layer의 뉴런의 개수, hidden layer의 뉴런의 개수, output layer의 뉴런의 개수\n",
    "        #matrix -> 일단 0으로 값 설정\n",
    "        self.W_h = np.zeros((num_hidden, num_input), dtype=np.float32) #mxn\n",
    "        #bias\n",
    "        self.b_o = np.zeros((num_hidden,), dtype=np.float32)\n",
    "        #matrix\n",
    "        self.W_o = np.zeros((num_output, num_hidden), dtype=np.float32) #mxn\n",
    "        #bias\n",
    "        self.b_h = np.zeros((num_output,), dtype=np.float32)\n",
    "    def __call__(self, x):\n",
    "        h = sigmoid(np.matmul(self.W_h, x) + self.b_h)#hidden layer 계산\n",
    "        return softmax(np.matmul(self.W_o, h) + self.b_o)"
   ]
  },
  {
   "cell_type": "markdown",
   "metadata": {},
   "source": [
    "### 실제 학습이 이뤄지는 main sequence\n",
    "#### 데이터셋 가져오기, 정리하기"
   ]
  },
  {
   "cell_type": "code",
   "execution_count": 6,
   "metadata": {},
   "outputs": [],
   "source": [
    "#Import and organize dataset\n",
    "dataset = np.load('ch2_dataset.npz')\n",
    "inputs = dataset['inputs']\n",
    "labels = dataset['labels']"
   ]
  },
  {
   "cell_type": "markdown",
   "metadata": {},
   "source": [
    "#### 모델 만들기"
   ]
  },
  {
   "cell_type": "code",
   "execution_count": 7,
   "metadata": {},
   "outputs": [],
   "source": [
    "# Create Model\n",
    "# input : 2개 길이의 데이터 나열\n",
    "# label : 10의 길이인 one-hot 벡터\n",
    "model = ShallowNN(2, 128, 10)\n"
   ]
  },
  {
   "cell_type": "markdown",
   "metadata": {},
   "source": [
    "#### 사전에 학습된 파라미터 불러오기"
   ]
  },
  {
   "cell_type": "code",
   "execution_count": 10,
   "metadata": {},
   "outputs": [],
   "source": [
    "weight = np.load('ch_parameters.npz')\n",
    "model.W_h = 'W_h'\n",
    "model.b_h = 'b_h'\n",
    "model.W_o = 'W_o'\n",
    "model.b_o = 'b_o'"
   ]
  },
  {
   "cell_type": "code",
   "execution_count": 11,
   "metadata": {},
   "outputs": [
    {
     "ename": "ValueError",
     "evalue": "matmul: Input operand 0 does not have enough dimensions (has 0, gufunc core with signature (n?,k),(k,m?)->(n?,m?) requires 1)",
     "output_type": "error",
     "traceback": [
      "\u001b[1;31m---------------------------------------------------------------------------\u001b[0m",
      "\u001b[1;31mValueError\u001b[0m                                Traceback (most recent call last)",
      "\u001b[1;32m<ipython-input-11-c5d3555b1465>\u001b[0m in \u001b[0;36m<module>\u001b[1;34m\u001b[0m\n\u001b[0;32m      1\u001b[0m \u001b[0moutputs\u001b[0m\u001b[1;33m=\u001b[0m \u001b[0mlist\u001b[0m\u001b[1;33m(\u001b[0m\u001b[1;33m)\u001b[0m\u001b[1;33m\u001b[0m\u001b[1;33m\u001b[0m\u001b[0m\n\u001b[0;32m      2\u001b[0m \u001b[1;32mfor\u001b[0m \u001b[0mpt\u001b[0m\u001b[1;33m,\u001b[0m \u001b[0mlabel\u001b[0m \u001b[1;32min\u001b[0m \u001b[0mzip\u001b[0m\u001b[1;33m(\u001b[0m\u001b[0minputs\u001b[0m\u001b[1;33m,\u001b[0m \u001b[0mlabels\u001b[0m\u001b[1;33m)\u001b[0m\u001b[1;33m:\u001b[0m \u001b[1;31m#학습 데이터 하나하나 받아옴\u001b[0m\u001b[1;33m\u001b[0m\u001b[1;33m\u001b[0m\u001b[0m\n\u001b[1;32m----> 3\u001b[1;33m     \u001b[0moutput\u001b[0m \u001b[1;33m=\u001b[0m \u001b[0mmodel\u001b[0m\u001b[1;33m(\u001b[0m\u001b[0mpt\u001b[0m\u001b[1;33m)\u001b[0m\u001b[1;31m#softmax->확률(총 10개의 클래스에 대한)\u001b[0m\u001b[1;33m\u001b[0m\u001b[1;33m\u001b[0m\u001b[0m\n\u001b[0m\u001b[0;32m      4\u001b[0m     \u001b[0moutputs\u001b[0m\u001b[1;33m.\u001b[0m\u001b[0mappend\u001b[0m\u001b[1;33m(\u001b[0m\u001b[0mnp\u001b[0m\u001b[1;33m.\u001b[0m\u001b[0margmax\u001b[0m\u001b[1;33m(\u001b[0m\u001b[0moutput\u001b[0m\u001b[1;33m)\u001b[0m\u001b[1;33m)\u001b[0m\u001b[1;31m#확률 가장 높은 index로 받기 위해 argmax활용\u001b[0m\u001b[1;33m\u001b[0m\u001b[1;33m\u001b[0m\u001b[0m\n\u001b[0;32m      5\u001b[0m     \u001b[1;31m#output : onehotencoding과 비슷한 형태, argmax(output): sparse(희소행렬:값 하나만!)과 비슷한 형태\u001b[0m\u001b[1;33m\u001b[0m\u001b[1;33m\u001b[0m\u001b[1;33m\u001b[0m\u001b[0m\n",
      "\u001b[1;32m<ipython-input-5-748ef76e8c69>\u001b[0m in \u001b[0;36m__call__\u001b[1;34m(self, x)\u001b[0m\n\u001b[0;32m     12\u001b[0m         \u001b[0mself\u001b[0m\u001b[1;33m.\u001b[0m\u001b[0mb_h\u001b[0m \u001b[1;33m=\u001b[0m \u001b[0mnp\u001b[0m\u001b[1;33m.\u001b[0m\u001b[0mzeros\u001b[0m\u001b[1;33m(\u001b[0m\u001b[1;33m(\u001b[0m\u001b[0mnum_output\u001b[0m\u001b[1;33m,\u001b[0m\u001b[1;33m)\u001b[0m\u001b[1;33m,\u001b[0m \u001b[0mdtype\u001b[0m\u001b[1;33m=\u001b[0m\u001b[0mnp\u001b[0m\u001b[1;33m.\u001b[0m\u001b[0mfloat32\u001b[0m\u001b[1;33m)\u001b[0m\u001b[1;33m\u001b[0m\u001b[1;33m\u001b[0m\u001b[0m\n\u001b[0;32m     13\u001b[0m     \u001b[1;32mdef\u001b[0m \u001b[0m__call__\u001b[0m\u001b[1;33m(\u001b[0m\u001b[0mself\u001b[0m\u001b[1;33m,\u001b[0m \u001b[0mx\u001b[0m\u001b[1;33m)\u001b[0m\u001b[1;33m:\u001b[0m\u001b[1;33m\u001b[0m\u001b[1;33m\u001b[0m\u001b[0m\n\u001b[1;32m---> 14\u001b[1;33m         \u001b[0mh\u001b[0m \u001b[1;33m=\u001b[0m \u001b[0msigmoid\u001b[0m\u001b[1;33m(\u001b[0m\u001b[0mnp\u001b[0m\u001b[1;33m.\u001b[0m\u001b[0mmatmul\u001b[0m\u001b[1;33m(\u001b[0m\u001b[0mself\u001b[0m\u001b[1;33m.\u001b[0m\u001b[0mW_h\u001b[0m\u001b[1;33m,\u001b[0m \u001b[0mx\u001b[0m\u001b[1;33m)\u001b[0m \u001b[1;33m+\u001b[0m \u001b[0mself\u001b[0m\u001b[1;33m.\u001b[0m\u001b[0mb_h\u001b[0m\u001b[1;33m)\u001b[0m\u001b[1;31m#hidden layer 계산\u001b[0m\u001b[1;33m\u001b[0m\u001b[1;33m\u001b[0m\u001b[0m\n\u001b[0m\u001b[0;32m     15\u001b[0m         \u001b[1;32mreturn\u001b[0m \u001b[0msoftmax\u001b[0m\u001b[1;33m(\u001b[0m\u001b[0mnp\u001b[0m\u001b[1;33m.\u001b[0m\u001b[0mmatmul\u001b[0m\u001b[1;33m(\u001b[0m\u001b[0mself\u001b[0m\u001b[1;33m.\u001b[0m\u001b[0mW_o\u001b[0m\u001b[1;33m,\u001b[0m \u001b[0mh\u001b[0m\u001b[1;33m)\u001b[0m \u001b[1;33m+\u001b[0m \u001b[0mself\u001b[0m\u001b[1;33m.\u001b[0m\u001b[0mb_o\u001b[0m\u001b[1;33m)\u001b[0m\u001b[1;33m\u001b[0m\u001b[1;33m\u001b[0m\u001b[0m\n",
      "\u001b[1;31mValueError\u001b[0m: matmul: Input operand 0 does not have enough dimensions (has 0, gufunc core with signature (n?,k),(k,m?)->(n?,m?) requires 1)"
     ]
    }
   ],
   "source": [
    "outputs= list()\n",
    "for pt, label in zip(inputs, labels): #학습 데이터 하나하나 받아옴\n",
    "    output = model(pt)#softmax->확률(총 10개의 클래스에 대한)\n",
    "    outputs.append(np.argmax(output))#확률 가장 높은 index로 받기 위해 argmax활용\n",
    "    #output : onehotencoding과 비슷한 형태, argmax(output): sparse(희소행렬:값 하나만!)과 비슷한 형태\n",
    "    print(np.argmax(output), label)#output과 실제 label 비교!\n",
    "    #매번 for문을 돌면서 몇번 label로 추정했는지와 정답을 프린트할 것\n",
    "outputs = np.stack(outputs, axis=0)\n",
    "#list를 np로 다 바꿔줌(numpy object로)"
   ]
  },
  {
   "cell_type": "markdown",
   "metadata": {},
   "source": [
    "#### 정답 클래스 스캐터 플랏"
   ]
  },
  {
   "cell_type": "code",
   "execution_count": 17,
   "metadata": {},
   "outputs": [
    {
     "data": {
      "image/png": "[encoded data removed]",
      "text/plain": [
       "<Figure size 432x288 with 1 Axes>"
      ]
     },
     "metadata": {
      "needs_background": "light"
     },
     "output_type": "display_data"
    },
    {
     "name": "stderr",
     "output_type": "stream",
     "text": [
      "Exception ignored in: <function NpzFile.__del__ at 0x000001D0441AC708>\n",
      "Traceback (most recent call last):\n",
      "  File \"C:\\Users\\82103\\anaconda3\\lib\\site-packages\\numpy\\lib\\npyio.py\", line 223, in __del__\n",
      "    self.close()\n",
      "  File \"C:\\Users\\82103\\anaconda3\\lib\\site-packages\\numpy\\lib\\npyio.py\", line 214, in close\n",
      "    if self.zip is not None:\n",
      "AttributeError: 'NpzFile' object has no attribute 'zip'\n"
     ]
    }
   ],
   "source": [
    "plt.figure()\n",
    "for idx in range(10): #10개의 class\n",
    "    mask = labels == idx #idx와 label이 맞는 것만 솎아내는 \n",
    "    plt.scatter(inputs[mask,0], inputs[mask,1])\n",
    "plt.title('true_label')\n",
    "plt.show()\n",
    "#겹쳐있는건 decision boundary가 그어졌을때 잘못 추정될 확률이 굉장히 높은 부분"
   ]
  },
  {
   "cell_type": "markdown",
   "metadata": {},
   "source": [
    "#### 모델 출력 클래스 스캐터 플랏"
   ]
  },
  {
   "cell_type": "code",
   "execution_count": 21,
   "metadata": {},
   "outputs": [
    {
     "data": {
      "image/png": "[encoded data removed]",
      "text/plain": [
       "<Figure size 432x288 with 1 Axes>"
      ]
     },
     "metadata": {
      "needs_background": "light"
     },
     "output_type": "display_data"
    }
   ],
   "source": [
    "plt.figure()\n",
    "for idx in range(10): #10개의 class\n",
    "    mask = outputs == idx \n",
    "    plt.scatter(inputs[mask,0], inputs[mask,1])\n",
    "plt.title('model_output')\n",
    "plt.show()\n",
    "#decision boundary된 후 결과이기 때문에 비교적 선명하게 나눠진 것을 볼 수 있음"
   ]
  },
  {
   "cell_type": "code",
   "execution_count": null,
   "metadata": {},
   "outputs": [],
   "source": []
  }
 ],
 "metadata": {
  "kernelspec": {
   "display_name": "Python 3",
   "language": "python",
   "name": "python3"
  },
  "language_info": {
   "codemirror_mode": {
    "name": "ipython",
    "version": 3
   },
   "file_extension": ".py",
   "mimetype": "text/x-python",
   "name": "python",
   "nbconvert_exporter": "python",
   "pygments_lexer": "ipython3",
   "version": "3.7.6"
  }
 },
 "nbformat": 4,
 "nbformat_minor": 4
}
