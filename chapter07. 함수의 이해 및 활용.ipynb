{
 "cells": [
  {
   "cell_type": "markdown",
   "metadata": {},
   "source": [
    "### 함수?\n",
    "- 지금까지 무심코 코드에서 사용된 많은 함수들이 존재 합니다.\n",
    "- 예를들면 sum, len, range같은 함수 등이 있죠.\n",
    "- 함수란 우리가 알고있는 개념처럼 주어진 입력(input)에 대해서 의도된 출력(output)를 전달하는 역할을 합니다.\n",
    "- 그렇다면 하나씩 살펴보겠습니다.\n",
    "\n",
    "> range 함수는 정수를 입력으로 전달하면 [0,정수)로 이루어진 리스트를 생성하는 역할을 합니다.\n",
    "\n",
    "> sum 함수는 리스트, 튜플등을 입력으로 전달하면 전체 아이템의 합을 출력으로 전달하는 역할을 합니다.\n",
    "\n",
    "> len 함수는 리스트, 튜플등을 입력으로 전달하면 아이템 개수를 출력으로 전달하는 역할을 합니다.\n",
    "\n",
    "- 그리고 위의 함수들은 모두 python 내부에 이미 정의(구현)이 되어 있습니다.\n",
    "- 위와 같은 함수를 내장함수(built-in function)이라고 합니다."
   ]
  },
  {
   "cell_type": "code",
   "execution_count": 2,
   "metadata": {},
   "outputs": [
    {
     "name": "stdout",
     "output_type": "stream",
     "text": [
      "4\n"
     ]
    }
   ],
   "source": [
    "#내장 함수의 예\n",
    "a=[1,2,3,4]\n",
    "length = len(a)\n",
    "print(length)"
   ]
  },
  {
   "cell_type": "code",
   "execution_count": 3,
   "metadata": {},
   "outputs": [
    {
     "name": "stdout",
     "output_type": "stream",
     "text": [
      "10\n"
     ]
    }
   ],
   "source": [
    "summation = sum(a)\n",
    "print(summation)"
   ]
  },
  {
   "cell_type": "markdown",
   "metadata": {},
   "source": [
    "#### 함수의 정의\n",
    "- 정의 시 최초에 def 키워드 사용\n",
    "- arrgument 정의 (함수에 입력으로 전달하는 값을 의미, argument 또는 parameter라고 함)\n",
    "- :(콜론) -> 함수 역시 코드 블록이기 때문에 콜론(:) 필요\n",
    "- body(함수의 구현 부분, 함수 역시 코드 블록이기 때문에 들여쓰기 된 부분까지 함수의 코드블록으로 인지함)\n",
    " - 함수를 호출한 코드(caller)로 함수가 해당 기능을 수행하고 완료된 값(output)을 전달하기 위해 return 키워드 사용\n",
    " - 즉, return 이후에 오는 값을 caller로 전달\n",
    "- 함수의 네이밍 역시 중요\n",
    " - 즉, 어떤 기능을 하는 함수인지 이름으로 최대한 나타날 수 있게 해야함\n",
    " - e.g) get_a(x) get_student_name(o)"
   ]
  },
  {
   "cell_type": "code",
   "execution_count": 1,
   "metadata": {},
   "outputs": [],
   "source": [
    "def add(x,y):\n",
    "    n = x+y\n",
    "    return n"
   ]
  },
  {
   "cell_type": "code",
   "execution_count": 2,
   "metadata": {},
   "outputs": [
    {
     "name": "stdout",
     "output_type": "stream",
     "text": [
      "330\n"
     ]
    }
   ],
   "source": [
    "l = len([1,2,3]) #3\n",
    "c = add(30,300) #330\n",
    "\n",
    "print(c)"
   ]
  },
  {
   "cell_type": "markdown",
   "metadata": {},
   "source": [
    "#### 함수의 사용(호출)\n",
    "- 함수명(파라미터1,파라미터2,...파라미터n)\n",
    "- 위와 같이 정의된 함수의 이름과 전달되는 parameter(인자)를 괄호안에 전달하여 함수를 호출\n",
    "- 함수가 호출되면 실행의 흐름이 호출자(caller)에서 함수(callee)로 변경 됨\n",
    "- 함수의 입력(인풋) 파라미터(parameter), 아규먼트(argument)라고도 함"
   ]
  },
  {
   "cell_type": "code",
   "execution_count": 3,
   "metadata": {},
   "outputs": [
    {
     "ename": "TypeError",
     "evalue": "add() missing 2 required positional arguments: 'x' and 'y'",
     "output_type": "error",
     "traceback": [
      "\u001b[1;31m---------------------------------------------------------------------------\u001b[0m",
      "\u001b[1;31mTypeError\u001b[0m                                 Traceback (most recent call last)",
      "\u001b[1;32m<ipython-input-3-504b94f6476b>\u001b[0m in \u001b[0;36m<module>\u001b[1;34m\u001b[0m\n\u001b[1;32m----> 1\u001b[1;33m \u001b[0mc\u001b[0m \u001b[1;33m=\u001b[0m \u001b[0madd\u001b[0m\u001b[1;33m(\u001b[0m\u001b[1;33m)\u001b[0m\u001b[1;33m\u001b[0m\u001b[1;33m\u001b[0m\u001b[0m\n\u001b[0m",
      "\u001b[1;31mTypeError\u001b[0m: add() missing 2 required positional arguments: 'x' and 'y'"
     ]
    }
   ],
   "source": [
    "c = add()"
   ]
  },
  {
   "cell_type": "markdown",
   "metadata": {},
   "source": [
    "#### 함수 네이밍(naming)\n",
    "- 함수 이름으로부터 기능이 명시\n",
    "- 의미와 반대되거나 맞지 않는 이름은 사용금지"
   ]
  },
  {
   "cell_type": "code",
   "execution_count": 5,
   "metadata": {},
   "outputs": [
    {
     "name": "stdout",
     "output_type": "stream",
     "text": [
      "1\n"
     ]
    }
   ],
   "source": [
    "def add(x,y):\n",
    "    sub = x-y\n",
    "    return sub\n",
    "print(add(4,3))"
   ]
  },
  {
   "cell_type": "markdown",
   "metadata": {},
   "source": [
    "#### parameter(argument)(인자)\n",
    "- 함수에 전달되는 입력(input)\n",
    "- 입력이 필요하지 않을 수도, 1개의 입력만 있을 수도, 여러개의 입력이 존재할 수 도 있음\n",
    "- 파라미터로 int, string, float, boolm, list, dict 등등 어떤 파이썬 객체도 전달 가능\n",
    "- 심지어 함수도 함수의 파라미터로 전달 가능\n",
    "- python의 경우, 타입 명시가 없기 때문에, 함수 생성시 의도된 파라미터의 타입과 맞게 입력을 전달하는 것이 중요\n",
    "- 또한 파라미터를 전달할 때, 정의된 순서에 따라 값을 전달하는 것이 필요 "
   ]
  },
  {
   "cell_type": "code",
   "execution_count": 6,
   "metadata": {},
   "outputs": [
    {
     "name": "stdout",
     "output_type": "stream",
     "text": [
      "haha\n",
      "good\n",
      "100\n"
     ]
    }
   ],
   "source": [
    "def test():\n",
    "    print('haha')\n",
    "    print('good')\n",
    "    \n",
    "    return 100\n",
    "\n",
    "a= test()\n",
    "print(a)"
   ]
  },
  {
   "cell_type": "code",
   "execution_count": 7,
   "metadata": {},
   "outputs": [
    {
     "name": "stdout",
     "output_type": "stream",
     "text": [
      "10 20\n",
      "30\n"
     ]
    }
   ],
   "source": [
    "def test(x,y):\n",
    "    print(x,y)\n",
    "    n = x+y\n",
    "    return n\n",
    "\n",
    "a = test(10,20)\n",
    "print(a)"
   ]
  },
  {
   "cell_type": "code",
   "execution_count": 9,
   "metadata": {},
   "outputs": [
    {
     "ename": "TypeError",
     "evalue": "unsupported operand type(s) for -: 'str' and 'str'",
     "output_type": "error",
     "traceback": [
      "\u001b[1;31m---------------------------------------------------------------------------\u001b[0m",
      "\u001b[1;31mTypeError\u001b[0m                                 Traceback (most recent call last)",
      "\u001b[1;32m<ipython-input-9-fbe06d591c8b>\u001b[0m in \u001b[0;36m<module>\u001b[1;34m\u001b[0m\n\u001b[0;32m      3\u001b[0m     \u001b[1;32mreturn\u001b[0m \u001b[0msub\u001b[0m\u001b[1;33m\u001b[0m\u001b[1;33m\u001b[0m\u001b[0m\n\u001b[0;32m      4\u001b[0m \u001b[1;33m\u001b[0m\u001b[0m\n\u001b[1;32m----> 5\u001b[1;33m \u001b[0ma\u001b[0m \u001b[1;33m=\u001b[0m \u001b[0msubstract\u001b[0m\u001b[1;33m(\u001b[0m\u001b[1;34m'you'\u001b[0m\u001b[1;33m,\u001b[0m\u001b[1;34m'me'\u001b[0m\u001b[1;33m)\u001b[0m\u001b[1;33m\u001b[0m\u001b[1;33m\u001b[0m\u001b[0m\n\u001b[0m\u001b[0;32m      6\u001b[0m \u001b[0mprint\u001b[0m\u001b[1;33m(\u001b[0m\u001b[0ma\u001b[0m\u001b[1;33m)\u001b[0m\u001b[1;33m\u001b[0m\u001b[1;33m\u001b[0m\u001b[0m\n",
      "\u001b[1;32m<ipython-input-9-fbe06d591c8b>\u001b[0m in \u001b[0;36msubstract\u001b[1;34m(x, y)\u001b[0m\n\u001b[0;32m      1\u001b[0m \u001b[1;32mdef\u001b[0m \u001b[0msubstract\u001b[0m\u001b[1;33m(\u001b[0m\u001b[0mx\u001b[0m\u001b[1;33m,\u001b[0m\u001b[0my\u001b[0m\u001b[1;33m)\u001b[0m\u001b[1;33m:\u001b[0m\u001b[1;33m\u001b[0m\u001b[1;33m\u001b[0m\u001b[0m\n\u001b[1;32m----> 2\u001b[1;33m     \u001b[0msub\u001b[0m \u001b[1;33m=\u001b[0m \u001b[0mx\u001b[0m\u001b[1;33m-\u001b[0m\u001b[0my\u001b[0m\u001b[1;33m\u001b[0m\u001b[1;33m\u001b[0m\u001b[0m\n\u001b[0m\u001b[0;32m      3\u001b[0m     \u001b[1;32mreturn\u001b[0m \u001b[0msub\u001b[0m\u001b[1;33m\u001b[0m\u001b[1;33m\u001b[0m\u001b[0m\n\u001b[0;32m      4\u001b[0m \u001b[1;33m\u001b[0m\u001b[0m\n\u001b[0;32m      5\u001b[0m \u001b[0ma\u001b[0m \u001b[1;33m=\u001b[0m \u001b[0msubstract\u001b[0m\u001b[1;33m(\u001b[0m\u001b[1;34m'you'\u001b[0m\u001b[1;33m,\u001b[0m\u001b[1;34m'me'\u001b[0m\u001b[1;33m)\u001b[0m\u001b[1;33m\u001b[0m\u001b[1;33m\u001b[0m\u001b[0m\n",
      "\u001b[1;31mTypeError\u001b[0m: unsupported operand type(s) for -: 'str' and 'str'"
     ]
    }
   ],
   "source": [
    "def substract(x,y):\n",
    "    sub = x-y\n",
    "    return sub\n",
    "\n",
    "a = substract('you','me')\n",
    "print(a)"
   ]
  },
  {
   "cell_type": "markdown",
   "metadata": {},
   "source": [
    "#### Default parameter(기본 인자)\n",
    "- 함수의 파라미터에 기본값 지정 가능\n",
    "- 파라미터를 명시하지 않을 경우, 지정된 기본값으로 대체"
   ]
  },
  {
   "cell_type": "code",
   "execution_count": 11,
   "metadata": {},
   "outputs": [
    {
     "data": {
      "text/plain": [
       "35"
      ]
     },
     "execution_count": 11,
     "metadata": {},
     "output_type": "execute_result"
    }
   ],
   "source": [
    "def add(x,y,z=5):\n",
    "    a = x+y+z\n",
    "    return a\n",
    "\n",
    "add(10,20,30)\n",
    "add(10,20)"
   ]
  },
  {
   "cell_type": "markdown",
   "metadata": {},
   "source": [
    "- **기본 파라미터의 다른 예**\n",
    " - print함수 \n",
    "   - sep,end,file등 여러 기본 파라미터를 가짐"
   ]
  },
  {
   "cell_type": "code",
   "execution_count": 13,
   "metadata": {},
   "outputs": [
    {
     "name": "stdout",
     "output_type": "stream",
     "text": [
      "11213%%%2p3p4\n"
     ]
    }
   ],
   "source": [
    "print(1,2,3, sep='1', end='%%%')\n",
    "print(2,3,4, sep='p')"
   ]
  },
  {
   "cell_type": "markdown",
   "metadata": {},
   "source": [
    "#### Default parameter 사용시 주의점\n",
    "- 디폴트 파라미터 뒤에 일반 파라미터가 위치할 수 없음\n",
    "- e.g)올바른 예\n",
    "\n",
    "> def test(a,b,c = 1)\n",
    "\n",
    "> def test(a,b = 1, c=2)\n",
    "\n",
    "> def test(a = 1, b = 1, c = 3)\n",
    "\n",
    "- e.g)올바르지 않은 예\n",
    "\n",
    "> def test(a,b=1,c)\n",
    "\n",
    "> def test(a=1,b,c)\n",
    "\n",
    "> def test(a=1,b=1,c)\n"
   ]
  },
  {
   "cell_type": "code",
   "execution_count": 14,
   "metadata": {},
   "outputs": [
    {
     "ename": "SyntaxError",
     "evalue": "non-default argument follows default argument (<ipython-input-14-0cf9aa03170f>, line 1)",
     "output_type": "error",
     "traceback": [
      "\u001b[1;36m  File \u001b[1;32m\"<ipython-input-14-0cf9aa03170f>\"\u001b[1;36m, line \u001b[1;32m1\u001b[0m\n\u001b[1;33m    def test(a=1,b=1,c):\u001b[0m\n\u001b[1;37m            ^\u001b[0m\n\u001b[1;31mSyntaxError\u001b[0m\u001b[1;31m:\u001b[0m non-default argument follows default argument\n"
     ]
    }
   ],
   "source": [
    "def test(a=1,b=1,c):\n",
    "    print(a,b,c)\n",
    "    \n",
    "test(10,20,1)"
   ]
  },
  {
   "cell_type": "markdown",
   "metadata": {},
   "source": [
    "#### keyword parameter (키워드 파라미터)\n",
    "- 파이썬의 경우, 파라미어에 값을 전달할 때, 파라미터의 이름을 명시하여 전달 가능\n",
    "- 파라미터 이름을 사용하지 않을 경우, 기본적으로 순서에 맞게 전달"
   ]
  },
  {
   "cell_type": "code",
   "execution_count": 17,
   "metadata": {},
   "outputs": [
    {
     "name": "stdout",
     "output_type": "stream",
     "text": [
      "63\n",
      "63\n"
     ]
    }
   ],
   "source": [
    "def test(x,y,z):\n",
    "    a = x+y+z\n",
    "    return a\n",
    "\n",
    "print(test(x=10,z=3,y=50))\n",
    "print(test(10,50,3))"
   ]
  },
  {
   "cell_type": "markdown",
   "metadata": {},
   "source": [
    "#### return(리턴)\n",
    "- 기본적으로 함수의 종료를 명시\n",
    " - return 옆에 값이나 수식이 있다면 해당 값을 호출자(caller)에게 반환(전달)\n",
    " - reutrn만 존재하면 None 반환\n",
    " - return이 없는 경우, 기본적으로 함수 코드 블록이 종료되면 종료로 간주, 이때도 None 반환"
   ]
  },
  {
   "cell_type": "code",
   "execution_count": 22,
   "metadata": {},
   "outputs": [
    {
     "name": "stdout",
     "output_type": "stream",
     "text": [
      "6\n",
      "15\n",
      "60\n"
     ]
    }
   ],
   "source": [
    "def multiply(x,y):\n",
    "    if x>10:\n",
    "        return x*y\n",
    "    print(x+y)\n",
    "    return (x+2)*y\n",
    "    print(x+y)\n",
    "\n",
    "print(multiply(1,5))\n",
    "print(multiply(12,5))"
   ]
  },
  {
   "cell_type": "code",
   "execution_count": 23,
   "metadata": {},
   "outputs": [
    {
     "name": "stdout",
     "output_type": "stream",
     "text": [
      "None\n"
     ]
    }
   ],
   "source": [
    "def multiply(x,y):\n",
    "    if x>10:\n",
    "        return \n",
    "    print(x+y)\n",
    "    return (x+2)*y\n",
    "\n",
    "c=multiply(12,5)\n",
    "print(c)"
   ]
  },
  {
   "cell_type": "code",
   "execution_count": 25,
   "metadata": {},
   "outputs": [
    {
     "name": "stdout",
     "output_type": "stream",
     "text": [
      "None\n"
     ]
    }
   ],
   "source": [
    "def multiply(x,y):\n",
    "    if x>10:\n",
    "        return x*y\n",
    "\n",
    "c=multiply(2,5)\n",
    "print(c)"
   ]
  },
  {
   "cell_type": "markdown",
   "metadata": {},
   "source": [
    "#### multiple return(복수 값 반환)\n",
    "- tuple 반환을 하여 복수개의 값 리턴 가능"
   ]
  },
  {
   "cell_type": "code",
   "execution_count": 28,
   "metadata": {},
   "outputs": [
    {
     "name": "stdout",
     "output_type": "stream",
     "text": [
      "<class 'tuple'>\n",
      "(23, 60)\n",
      "23 60\n"
     ]
    }
   ],
   "source": [
    "def add_mul(x,y):\n",
    "    s = x+y\n",
    "    m = x*y\n",
    "    \n",
    "    return s,m\n",
    "\n",
    "c=add_mul(20,3)\n",
    "print(type(c))\n",
    "print(c)\n",
    "a,b = add_mul(20,3)\n",
    "print(a,b)"
   ]
  },
  {
   "cell_type": "markdown",
   "metadata": {},
   "source": [
    "#### variable scope(변수의 범위)\n",
    "- 변수가 참조 가능한 코드상의 범위를 명시\n",
    "- 함수내의 변수는 자신이 속한 코드 블록이 종료되면 소멸됨\n",
    "- 이렇게 특정 코드 블록에서 선언된 변수를 지역변수(local variable)이라고 함\n",
    "- 반대로 가장 상단에서 정의되어 프로그램 종료 전까지 유지되는 변수를 전역변수(global variable)이라고 함\n",
    "- 같은 이름의 지역변수와 전역변수가 존재할 경우, 지역변수의 우선순위가 더 높음"
   ]
  },
  {
   "cell_type": "code",
   "execution_count": 31,
   "metadata": {},
   "outputs": [
    {
     "name": "stdout",
     "output_type": "stream",
     "text": [
      "30 40\n",
      "10 30\n"
     ]
    }
   ],
   "source": [
    "num1 = 10\n",
    "num2 = 30\n",
    "\n",
    "def test(num1, num2):\n",
    "    print(num1,num2)\n",
    "    return num1+num2\n",
    "\n",
    "test(30,40)\n",
    "print(num1,num2)"
   ]
  },
  {
   "cell_type": "markdown",
   "metadata": {},
   "source": [
    "#### variable length argument(가변길이 인자)\n",
    "- 전달되는 파라미터의 개수가 고정적이지 않은 경우 사용\n",
    "- e.g)\n",
    " - print 함수\n",
    " - format 함수\n",
    " \n",
    " > ***args**, ****kwargs**\n",
    " \n",
    " > ***args** : 파라미터를 튜플의 형태로 전달\n",
    " \n",
    " > ****kwargs** : 파라미터를 딕셔너리 형태로 전달(네임드 파라미터)"
   ]
  },
  {
   "cell_type": "code",
   "execution_count": 36,
   "metadata": {},
   "outputs": [
    {
     "name": "stdout",
     "output_type": "stream",
     "text": [
      "10\n",
      "20\n",
      "40\n"
     ]
    }
   ],
   "source": [
    "def test(*args) : #arguments\n",
    "    for item in args:\n",
    "        print(item)\n",
    "\n",
    "test(10,20,40)"
   ]
  },
  {
   "cell_type": "markdown",
   "metadata": {},
   "source": [
    "#### keyword parameter(키워드 파라미터)\n",
    "- **가 붙은 경우에는 키워드 파라미터로 인식\n",
    "- 즉 함수 호출 시, 파라미터의 이름과 값을 함께 전달 가능"
   ]
  },
  {
   "cell_type": "code",
   "execution_count": 43,
   "metadata": {},
   "outputs": [
    {
     "name": "stdout",
     "output_type": "stream",
     "text": [
      "key: a ,value: 1\n",
      "key: b ,value: 2\n",
      "key: c ,value: 3\n",
      "key: d ,value: 4\n",
      "key: name ,value: Bob\n",
      "key: age ,value: 90\n"
     ]
    }
   ],
   "source": [
    "def test2(**kwargs): #key word arguments\n",
    "    for key, value in kwargs.items():\n",
    "        print('key:', key, ',value:', value)\n",
    "    \n",
    "test2(a=1,b=2,c=3,d=4,name='Bob', age=90)"
   ]
  },
  {
   "cell_type": "markdown",
   "metadata": {},
   "source": [
    "- 가변길이 함수의 대표적인 예 **문자열 포맷 함수**\n",
    " - 여러가지 값과 포맷을 이용하여 문자열을 정의할 수 있는 함수\n",
    " - {} placeholder를 문자열 내에 위치 시킨 후, 해당 위치에 format 함수로 전달된 값으로 대체하여 문자열 생성\n",
    " - 포맷 구성은 다음 링크 참조 : http://pyformat.info/"
   ]
  },
  {
   "cell_type": "code",
   "execution_count": 47,
   "metadata": {},
   "outputs": [
    {
     "name": "stdout",
     "output_type": "stream",
     "text": [
      "오늘 온도: 20도, 강수확률: 50% 내일온도: 23도\n"
     ]
    }
   ],
   "source": [
    "a = '오늘 온도: {}도, 강수확률: {}% 내일온도: {}도'.format(20,50,23)\n",
    "print(a)"
   ]
  },
  {
   "cell_type": "code",
   "execution_count": 48,
   "metadata": {},
   "outputs": [
    {
     "name": "stdout",
     "output_type": "stream",
     "text": [
      "오늘 온도: 23도, 강수확률: 50% 내일온도: 20도\n"
     ]
    }
   ],
   "source": [
    "a = '오늘 온도: {today_temp}도, 강수확률: {today_prob}% 내일온도: {tomorrow_temp}도'.format(tomorrow_temp=20,today_prob=50,today_temp=23)\n",
    "print(a)"
   ]
  },
  {
   "cell_type": "markdown",
   "metadata": {},
   "source": [
    "- #### Lamda 함수\n",
    " - 단일문으로 표현되는 익명함수\n",
    " - 익명함수란 이름이 없는 구현체만 존재하는 간단한 함수를 의미\n",
    " - 코드 상에서 한번만 사용되는 기능이 있을 때, 굳이 함수로 만들지 않고 1회성으로 만들어 쓸 때 사용"
   ]
  },
  {
   "cell_type": "code",
   "execution_count": 50,
   "metadata": {},
   "outputs": [
    {
     "name": "stdout",
     "output_type": "stream",
     "text": [
      "<class 'function'>\n"
     ]
    },
    {
     "data": {
      "text/plain": [
       "25"
      ]
     },
     "execution_count": 50,
     "metadata": {},
     "output_type": "execute_result"
    }
   ],
   "source": [
    "square=lambda x:x**2\n",
    "print(type(square))\n",
    "square(5)"
   ]
  },
  {
   "cell_type": "code",
   "execution_count": 51,
   "metadata": {},
   "outputs": [
    {
     "data": {
      "text/plain": [
       "25"
      ]
     },
     "execution_count": 51,
     "metadata": {},
     "output_type": "execute_result"
    }
   ],
   "source": [
    "def square2(x):\n",
    "    return x**2\n",
    "\n",
    "square2(5)"
   ]
  },
  {
   "cell_type": "code",
   "execution_count": 53,
   "metadata": {},
   "outputs": [
    {
     "data": {
      "text/plain": [
       "30"
      ]
     },
     "execution_count": 53,
     "metadata": {},
     "output_type": "execute_result"
    }
   ],
   "source": [
    "def add(x,y):\n",
    "    return x+y\n",
    "\n",
    "add2 = lambda x,y:x+y\n",
    "add2(10,20)"
   ]
  },
  {
   "cell_type": "code",
   "execution_count": 56,
   "metadata": {},
   "outputs": [
    {
     "data": {
      "text/plain": [
       "4"
      ]
     },
     "execution_count": 56,
     "metadata": {},
     "output_type": "execute_result"
    }
   ],
   "source": [
    "def str_len(s):\n",
    "    return len(s)\n",
    "\n",
    "str_len('test')"
   ]
  },
  {
   "cell_type": "code",
   "execution_count": 58,
   "metadata": {},
   "outputs": [
    {
     "name": "stdout",
     "output_type": "stream",
     "text": [
      "['bob', 'teddy', 'charles', 'alexander3']\n"
     ]
    }
   ],
   "source": [
    "strings = ['bob', 'charles', 'alexander3', 'teddy']\n",
    "#strings.sort(key=str_len)\n",
    "strings.sort(key=lambda s:len(s))\n",
    "\n",
    "print(strings)"
   ]
  },
  {
   "cell_type": "markdown",
   "metadata": {},
   "source": [
    "#### filter, map, reduce\n",
    "- lambda가 유용하게 사용되는 3가지 대표적 함수\n",
    "- 함수형 프로그래밍의 기본 요소이기도 함\n",
    "- filter : 특정 조건을 만족하는 요소만 남기고 필터링\n",
    "- map : 각 원소를 주어진 수식에 따라 변형하여 새로운 리스트를 반환\n",
    "- reduce : 차례대로 앞 2개의 원소를 가지고 연산, 연산의 결과가 또 다음 연산의 입력으로 진행됨."
   ]
  },
  {
   "cell_type": "code",
   "execution_count": 59,
   "metadata": {},
   "outputs": [
    {
     "data": {
      "text/plain": [
       "False"
      ]
     },
     "execution_count": 59,
     "metadata": {},
     "output_type": "execute_result"
    }
   ],
   "source": [
    "def even(n):\n",
    "    return n%2 == 0\n",
    "    \n",
    "even(3)"
   ]
  },
  {
   "cell_type": "code",
   "execution_count": 63,
   "metadata": {},
   "outputs": [
    {
     "name": "stdout",
     "output_type": "stream",
     "text": [
      "<filter object at 0x000001A208682308>\n",
      "[2, 6, 8, 10]\n",
      "[2, 6, 8, 10]\n"
     ]
    }
   ],
   "source": [
    "#filter(함수,리스트)\n",
    "#리스트의 원소를 하나씩 함수에 넣어서 true인 값만 남김\n",
    "nums = [1,2,3,6,8,9,10,11,13,15]\n",
    "\n",
    "print(filter(even, nums))\n",
    "print(list(filter(even,nums)))\n",
    "print(list(filter(lambda n:n%2==0, nums)))"
   ]
  },
  {
   "cell_type": "code",
   "execution_count": 64,
   "metadata": {},
   "outputs": [
    {
     "data": {
      "text/plain": [
       "[1, 4, 9, 36, 64, 81, 100, 121, 169, 225]"
      ]
     },
     "execution_count": 64,
     "metadata": {},
     "output_type": "execute_result"
    }
   ],
   "source": [
    "#map(함수,리스트)\n",
    "#리스트의 원소를 하나씩 함수에 넣어서 결과값으로 새로운 리스트 만듦\n",
    "#주어진 리스트, 리스트의 제곱을 한 숫자로 새로운 리스트\n",
    "nums = [1,2,3,6,8,9,10,11,13,15]\n",
    "list(map(lambda n:n**2, nums))"
   ]
  },
  {
   "cell_type": "code",
   "execution_count": 65,
   "metadata": {},
   "outputs": [
    {
     "data": {
      "text/plain": [
       "[False, True, False, True, True, False, True, False, False, False]"
      ]
     },
     "execution_count": 65,
     "metadata": {},
     "output_type": "execute_result"
    }
   ],
   "source": [
    "list(map(even, nums))"
   ]
  },
  {
   "cell_type": "code",
   "execution_count": 1,
   "metadata": {},
   "outputs": [
    {
     "data": {
      "text/plain": [
       "17"
      ]
     },
     "execution_count": 1,
     "metadata": {},
     "output_type": "execute_result"
    }
   ],
   "source": [
    "#reduce(함수,리스트)\n",
    "import functools\n",
    "\n",
    "a=[1,3,5,8]#처음 두개-> 그 결과와 다음 한개->...\n",
    "#리스트 내의 모든 숫자의 합\n",
    "\n",
    "functools.reduce(lambda x,y:x+y,a)"
   ]
  },
  {
   "cell_type": "markdown",
   "metadata": {},
   "source": [
    "#### 함수 연습문제\n",
    "1. 주어진 숫자 리스트의 평균을 구하는 함수를 출력하시오.\n",
    "2. 해당 숫자가 소수인지 아닌지 판별하시오.\n",
    "3. 2부터 해당 숫자사이에 소수가 몇개인지 출력하는 함수를 구하시오."
   ]
  },
  {
   "cell_type": "code",
   "execution_count": 9,
   "metadata": {},
   "outputs": [
    {
     "name": "stdout",
     "output_type": "stream",
     "text": [
      "4.3\n"
     ]
    }
   ],
   "source": [
    "#1\n",
    "import functools\n",
    "\n",
    "a=[1,2,3,4,6,5,4,3,6,9]\n",
    "sum_=functools.reduce(lambda x,y:x+y,a)\n",
    "print(sum_/len(a))"
   ]
  },
  {
   "cell_type": "code",
   "execution_count": 10,
   "metadata": {},
   "outputs": [
    {
     "name": "stdout",
     "output_type": "stream",
     "text": [
      "2.0\n",
      "3.0\n",
      "3.72\n",
      "3.0\n"
     ]
    }
   ],
   "source": [
    "#1\n",
    "#입력: 숫자리스트\n",
    "#출력: 숫자리스트의 평균 값\n",
    "\n",
    "def mean(nums):\n",
    "    _sum = 0\n",
    "    for i in nums:\n",
    "        _sum+=i\n",
    "    \n",
    "    return _sum/len(nums)\n",
    "\n",
    "print(mean([1,2,3]))\n",
    "print(mean([1,2,3,4,5]))\n",
    "print(mean([1,2,3.0,3.9,8.7]))\n",
    "\n",
    "#sum 내장함수로 대체 가능\n",
    "def mean2(nums):\n",
    "    return sum(nums)/len(nums)\n",
    "print(mean2([1,2,3,4,5]))"
   ]
  },
  {
   "cell_type": "code",
   "execution_count": 12,
   "metadata": {},
   "outputs": [
    {
     "data": {
      "text/plain": [
       "'소수입니다.'"
      ]
     },
     "execution_count": 12,
     "metadata": {},
     "output_type": "execute_result"
    }
   ],
   "source": [
    "#2\n",
    "def a(x):\n",
    "    for i in range(2,x):\n",
    "        if x%i==0:\n",
    "            return \"소수가 아닙니다.\"\n",
    "    else: return \"소수입니다.\"\n",
    "            \n",
    "\n",
    "a(17)"
   ]
  },
  {
   "cell_type": "code",
   "execution_count": 14,
   "metadata": {},
   "outputs": [
    {
     "name": "stdout",
     "output_type": "stream",
     "text": [
      "False\n",
      "True\n",
      "True\n"
     ]
    }
   ],
   "source": [
    "# 소수 판별(1과 자기 자신으로만 나누어 지는 수)\n",
    "# 입력: 양의 정수 1개\n",
    "# 출력: boolean(소수:true, 합성수:False)\n",
    "\n",
    "def is_prime(num):\n",
    "    for i in range(2,num):\n",
    "        if num % i == 0:\n",
    "            return False\n",
    "    return True\n",
    "\n",
    "print(is_prime(100))\n",
    "print(is_prime(17))\n",
    "print(is_prime(2))"
   ]
  },
  {
   "cell_type": "code",
   "execution_count": 19,
   "metadata": {},
   "outputs": [
    {
     "name": "stdout",
     "output_type": "stream",
     "text": [
      "10\n"
     ]
    }
   ],
   "source": [
    "#3\n",
    "def b(x):\n",
    "    sum=0\n",
    "    for i in range(2,x+1):\n",
    "        for j in range(2,i):\n",
    "            if i%j==0:\n",
    "                sum+=1\n",
    "    print(sum)\n",
    "\n",
    "b(19)"
   ]
  },
  {
   "cell_type": "code",
   "execution_count": 17,
   "metadata": {},
   "outputs": [
    {
     "name": "stdout",
     "output_type": "stream",
     "text": [
      "4\n",
      "3\n",
      "25\n"
     ]
    }
   ],
   "source": [
    "# 2,3,4,5,6,7 -> 4\n",
    "# 2,3,4,5 -> 3\n",
    "#입력 : 양의 정수 1개\n",
    "#출력 : 2-해당 숫자 사이의 소수의 개수\n",
    "\n",
    "def num_prime(num):\n",
    "    count=0\n",
    "    for i in range(2,num+1):\n",
    "        if is_prime(i):\n",
    "            count +=1\n",
    "    return count\n",
    "\n",
    "print(num_prime(7))\n",
    "print(num_prime(5))\n",
    "print(num_prime(100))"
   ]
  },
  {
   "cell_type": "code",
   "execution_count": null,
   "metadata": {},
   "outputs": [],
   "source": []
  }
 ],
 "metadata": {
  "kernelspec": {
   "display_name": "Python 3",
   "language": "python",
   "name": "python3"
  },
  "language_info": {
   "codemirror_mode": {
    "name": "ipython",
    "version": 3
   },
   "file_extension": ".py",
   "mimetype": "text/x-python",
   "name": "python",
   "nbconvert_exporter": "python",
   "pygments_lexer": "ipython3",
   "version": "3.7.6"
  }
 },
 "nbformat": 4,
 "nbformat_minor": 4
}
